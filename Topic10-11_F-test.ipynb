{
 "cells": [
  {
   "cell_type": "code",
   "execution_count": 45,
   "metadata": {},
   "outputs": [
    {
     "data": {
      "text/html": [
       "<table>\n",
       "<caption>A data.frame: 16 × 5</caption>\n",
       "<thead>\n",
       "\t<tr><th scope=col>X1</th><th scope=col>X2</th><th scope=col>X3</th><th scope=col>X4</th><th scope=col>Y</th></tr>\n",
       "\t<tr><th scope=col>&lt;dbl&gt;</th><th scope=col>&lt;dbl&gt;</th><th scope=col>&lt;dbl&gt;</th><th scope=col>&lt;dbl&gt;</th><th scope=col>&lt;dbl&gt;</th></tr>\n",
       "</thead>\n",
       "<tbody>\n",
       "\t<tr><td>-1</td><td>-1</td><td>-1</td><td>-1</td><td> 1.68</td></tr>\n",
       "\t<tr><td> 1</td><td>-1</td><td>-1</td><td>-1</td><td> 1.98</td></tr>\n",
       "\t<tr><td>-1</td><td> 1</td><td>-1</td><td>-1</td><td> 3.28</td></tr>\n",
       "\t<tr><td> 1</td><td> 1</td><td>-1</td><td>-1</td><td> 3.44</td></tr>\n",
       "\t<tr><td>-1</td><td>-1</td><td> 1</td><td>-1</td><td> 4.98</td></tr>\n",
       "\t<tr><td> 1</td><td>-1</td><td> 1</td><td>-1</td><td> 5.70</td></tr>\n",
       "\t<tr><td>-1</td><td> 1</td><td> 1</td><td>-1</td><td> 9.97</td></tr>\n",
       "\t<tr><td> 1</td><td> 1</td><td> 1</td><td>-1</td><td> 9.07</td></tr>\n",
       "\t<tr><td>-1</td><td>-1</td><td>-1</td><td> 1</td><td> 2.07</td></tr>\n",
       "\t<tr><td> 1</td><td>-1</td><td>-1</td><td> 1</td><td> 2.44</td></tr>\n",
       "\t<tr><td>-1</td><td> 1</td><td>-1</td><td> 1</td><td> 4.09</td></tr>\n",
       "\t<tr><td> 1</td><td> 1</td><td>-1</td><td> 1</td><td> 4.53</td></tr>\n",
       "\t<tr><td>-1</td><td>-1</td><td> 1</td><td> 1</td><td> 7.77</td></tr>\n",
       "\t<tr><td> 1</td><td>-1</td><td> 1</td><td> 1</td><td> 9.43</td></tr>\n",
       "\t<tr><td>-1</td><td> 1</td><td> 1</td><td> 1</td><td>11.75</td></tr>\n",
       "\t<tr><td> 1</td><td> 1</td><td> 1</td><td> 1</td><td>16.30</td></tr>\n",
       "</tbody>\n",
       "</table>\n"
      ],
      "text/latex": [
       "A data.frame: 16 × 5\n",
       "\\begin{tabular}{r|lllll}\n",
       " X1 & X2 & X3 & X4 & Y\\\\\n",
       " <dbl> & <dbl> & <dbl> & <dbl> & <dbl>\\\\\n",
       "\\hline\n",
       "\t -1 & -1 & -1 & -1 &  1.68\\\\\n",
       "\t  1 & -1 & -1 & -1 &  1.98\\\\\n",
       "\t -1 &  1 & -1 & -1 &  3.28\\\\\n",
       "\t  1 &  1 & -1 & -1 &  3.44\\\\\n",
       "\t -1 & -1 &  1 & -1 &  4.98\\\\\n",
       "\t  1 & -1 &  1 & -1 &  5.70\\\\\n",
       "\t -1 &  1 &  1 & -1 &  9.97\\\\\n",
       "\t  1 &  1 &  1 & -1 &  9.07\\\\\n",
       "\t -1 & -1 & -1 &  1 &  2.07\\\\\n",
       "\t  1 & -1 & -1 &  1 &  2.44\\\\\n",
       "\t -1 &  1 & -1 &  1 &  4.09\\\\\n",
       "\t  1 &  1 & -1 &  1 &  4.53\\\\\n",
       "\t -1 & -1 &  1 &  1 &  7.77\\\\\n",
       "\t  1 & -1 &  1 &  1 &  9.43\\\\\n",
       "\t -1 &  1 &  1 &  1 & 11.75\\\\\n",
       "\t  1 &  1 &  1 &  1 & 16.30\\\\\n",
       "\\end{tabular}\n"
      ],
      "text/markdown": [
       "\n",
       "A data.frame: 16 × 5\n",
       "\n",
       "| X1 &lt;dbl&gt; | X2 &lt;dbl&gt; | X3 &lt;dbl&gt; | X4 &lt;dbl&gt; | Y &lt;dbl&gt; |\n",
       "|---|---|---|---|---|\n",
       "| -1 | -1 | -1 | -1 |  1.68 |\n",
       "|  1 | -1 | -1 | -1 |  1.98 |\n",
       "| -1 |  1 | -1 | -1 |  3.28 |\n",
       "|  1 |  1 | -1 | -1 |  3.44 |\n",
       "| -1 | -1 |  1 | -1 |  4.98 |\n",
       "|  1 | -1 |  1 | -1 |  5.70 |\n",
       "| -1 |  1 |  1 | -1 |  9.97 |\n",
       "|  1 |  1 |  1 | -1 |  9.07 |\n",
       "| -1 | -1 | -1 |  1 |  2.07 |\n",
       "|  1 | -1 | -1 |  1 |  2.44 |\n",
       "| -1 |  1 | -1 |  1 |  4.09 |\n",
       "|  1 |  1 | -1 |  1 |  4.53 |\n",
       "| -1 | -1 |  1 |  1 |  7.77 |\n",
       "|  1 | -1 |  1 |  1 |  9.43 |\n",
       "| -1 |  1 |  1 |  1 | 11.75 |\n",
       "|  1 |  1 |  1 |  1 | 16.30 |\n",
       "\n"
      ],
      "text/plain": [
       "   X1 X2 X3 X4 Y    \n",
       "1  -1 -1 -1 -1  1.68\n",
       "2   1 -1 -1 -1  1.98\n",
       "3  -1  1 -1 -1  3.28\n",
       "4   1  1 -1 -1  3.44\n",
       "5  -1 -1  1 -1  4.98\n",
       "6   1 -1  1 -1  5.70\n",
       "7  -1  1  1 -1  9.97\n",
       "8   1  1  1 -1  9.07\n",
       "9  -1 -1 -1  1  2.07\n",
       "10  1 -1 -1  1  2.44\n",
       "11 -1  1 -1  1  4.09\n",
       "12  1  1 -1  1  4.53\n",
       "13 -1 -1  1  1  7.77\n",
       "14  1 -1  1  1  9.43\n",
       "15 -1  1  1  1 11.75\n",
       "16  1  1  1  1 16.30"
      ]
     },
     "metadata": {},
     "output_type": "display_data"
    },
    {
     "data": {
      "text/html": [
       "<ol class=list-inline>\n",
       "\t<li>16</li>\n",
       "\t<li>5</li>\n",
       "</ol>\n"
      ],
      "text/latex": [
       "\\begin{enumerate*}\n",
       "\\item 16\n",
       "\\item 5\n",
       "\\end{enumerate*}\n"
      ],
      "text/markdown": [
       "1. 16\n",
       "2. 5\n",
       "\n",
       "\n"
      ],
      "text/plain": [
       "[1] 16  5"
      ]
     },
     "metadata": {},
     "output_type": "display_data"
    }
   ],
   "source": [
    "library(MPV)\n",
    "data(p13.16) # load the data\n",
    "p13.16\n",
    "dim(p13.16)"
   ]
  },
  {
   "cell_type": "code",
   "execution_count": 38,
   "metadata": {},
   "outputs": [
    {
     "name": "stdout",
     "output_type": "stream",
     "text": [
      "Analysis of Variance Table\n",
      "\n",
      "Model 1: Y ~ X2\n",
      "Model 2: Y ~ X1 + X2 + X3\n",
      "  Res.Df     RSS Df Sum of Sq      F    Pr(>F)    \n",
      "1     14 219.190                                  \n",
      "2     12  50.352  2    168.84 20.119 0.0001469 ***\n",
      "---\n",
      "Signif. codes:  0 ‘***’ 0.001 ‘**’ 0.01 ‘*’ 0.05 ‘.’ 0.1 ‘ ’ 1\n"
     ]
    }
   ],
   "source": [
    "m_reduced <- lm(Y ~ X2, data = p13.16) # fit the reduced model\n",
    "m_full <- lm(Y ~ X1 + X2 + X3, data = p13.16) # fit the full model\n",
    "print(anova(m_reduced, m_full)) # F-test: reduced vs full"
   ]
  },
  {
   "cell_type": "code",
   "execution_count": 39,
   "metadata": {},
   "outputs": [
    {
     "name": "stdout",
     "output_type": "stream",
     "text": [
      "Analysis of Variance Table\n",
      "\n",
      "Model 1: Y ~ X1 + X2 + X3\n",
      "Model 2: Y ~ X2\n",
      "  Res.Df     RSS Df Sum of Sq      F    Pr(>F)    \n",
      "1     12  50.352                                  \n",
      "2     14 219.190 -2   -168.84 20.119 0.0001469 ***\n",
      "---\n",
      "Signif. codes:  0 ‘***’ 0.001 ‘**’ 0.01 ‘*’ 0.05 ‘.’ 0.1 ‘ ’ 1\n"
     ]
    }
   ],
   "source": [
    "print(anova(m_full, m_reduced)) # if you switch the order, result doesn't change"
   ]
  },
  {
   "cell_type": "code",
   "execution_count": 40,
   "metadata": {},
   "outputs": [
    {
     "data": {
      "text/plain": [
       "\n",
       "Call:\n",
       "lm(formula = Y ~ X1 + X2 + X3, data = p13.16)\n",
       "\n",
       "Residuals:\n",
       "    Min      1Q  Median      3Q     Max \n",
       "-2.4787 -1.0394  0.0962  0.9312  4.8237 \n",
       "\n",
       "Coefficients:\n",
       "            Estimate Std. Error t value Pr(>|t|)    \n",
       "(Intercept)   6.1550     0.5121  12.019 4.75e-08 ***\n",
       "X1            0.4562     0.5121   0.891  0.39048    \n",
       "X2            1.6487     0.5121   3.220  0.00736 ** \n",
       "X3            3.2163     0.5121   6.280 4.06e-05 ***\n",
       "---\n",
       "Signif. codes:  0 ‘***’ 0.001 ‘**’ 0.01 ‘*’ 0.05 ‘.’ 0.1 ‘ ’ 1\n",
       "\n",
       "Residual standard error: 2.048 on 12 degrees of freedom\n",
       "Multiple R-squared:  0.8083,\tAdjusted R-squared:  0.7604 \n",
       "F-statistic: 16.87 on 3 and 12 DF,  p-value: 0.000133\n"
      ]
     },
     "metadata": {},
     "output_type": "display_data"
    }
   ],
   "source": [
    "summary(m_full)"
   ]
  },
  {
   "cell_type": "code",
   "execution_count": 42,
   "metadata": {},
   "outputs": [
    {
     "data": {
      "text/html": [
       "<table>\n",
       "<caption>A anova: 4 × 5</caption>\n",
       "<thead>\n",
       "\t<tr><th></th><th scope=col>Df</th><th scope=col>Sum Sq</th><th scope=col>Mean Sq</th><th scope=col>F value</th><th scope=col>Pr(&gt;F)</th></tr>\n",
       "\t<tr><th></th><th scope=col>&lt;int&gt;</th><th scope=col>&lt;dbl&gt;</th><th scope=col>&lt;dbl&gt;</th><th scope=col>&lt;dbl&gt;</th><th scope=col>&lt;dbl&gt;</th></tr>\n",
       "</thead>\n",
       "<tbody>\n",
       "\t<tr><th scope=row>X1</th><td> 1</td><td>  3.330625</td><td>  3.330625</td><td> 0.7937694</td><td>3.904766e-01</td></tr>\n",
       "\t<tr><th scope=row>X2</th><td> 1</td><td> 43.494025</td><td> 43.494025</td><td>10.3656900</td><td>7.360225e-03</td></tr>\n",
       "\t<tr><th scope=row>X3</th><td> 1</td><td>165.508225</td><td>165.508225</td><td>39.4446583</td><td>4.064436e-05</td></tr>\n",
       "\t<tr><th scope=row>Residuals</th><td>12</td><td> 50.351525</td><td>  4.195960</td><td>        NA</td><td>          NA</td></tr>\n",
       "</tbody>\n",
       "</table>\n"
      ],
      "text/latex": [
       "A anova: 4 × 5\n",
       "\\begin{tabular}{r|lllll}\n",
       "  & Df & Sum Sq & Mean Sq & F value & Pr(>F)\\\\\n",
       "  & <int> & <dbl> & <dbl> & <dbl> & <dbl>\\\\\n",
       "\\hline\n",
       "\tX1 &  1 &   3.330625 &   3.330625 &  0.7937694 & 3.904766e-01\\\\\n",
       "\tX2 &  1 &  43.494025 &  43.494025 & 10.3656900 & 7.360225e-03\\\\\n",
       "\tX3 &  1 & 165.508225 & 165.508225 & 39.4446583 & 4.064436e-05\\\\\n",
       "\tResiduals & 12 &  50.351525 &   4.195960 &         NA &           NA\\\\\n",
       "\\end{tabular}\n"
      ],
      "text/markdown": [
       "\n",
       "A anova: 4 × 5\n",
       "\n",
       "| <!--/--> | Df &lt;int&gt; | Sum Sq &lt;dbl&gt; | Mean Sq &lt;dbl&gt; | F value &lt;dbl&gt; | Pr(&gt;F) &lt;dbl&gt; |\n",
       "|---|---|---|---|---|---|\n",
       "| X1 |  1 |   3.330625 |   3.330625 |  0.7937694 | 3.904766e-01 |\n",
       "| X2 |  1 |  43.494025 |  43.494025 | 10.3656900 | 7.360225e-03 |\n",
       "| X3 |  1 | 165.508225 | 165.508225 | 39.4446583 | 4.064436e-05 |\n",
       "| Residuals | 12 |  50.351525 |   4.195960 |         NA |           NA |\n",
       "\n"
      ],
      "text/plain": [
       "          Df Sum Sq     Mean Sq    F value    Pr(>F)      \n",
       "X1         1   3.330625   3.330625  0.7937694 3.904766e-01\n",
       "X2         1  43.494025  43.494025 10.3656900 7.360225e-03\n",
       "X3         1 165.508225 165.508225 39.4446583 4.064436e-05\n",
       "Residuals 12  50.351525   4.195960         NA           NA"
      ]
     },
     "metadata": {},
     "output_type": "display_data"
    }
   ],
   "source": [
    "print(anova(m_full)"
   ]
  },
  {
   "cell_type": "code",
   "execution_count": 4,
   "metadata": {},
   "outputs": [
    {
     "data": {
      "text/plain": [
       "\n",
       "Call:\n",
       "lm(formula = Y ~ 1, data = p13.16)\n",
       "\n",
       "Residuals:\n",
       "   Min     1Q Median     3Q    Max \n",
       "-4.475 -3.085 -1.400  3.005 10.145 \n",
       "\n",
       "Coefficients:\n",
       "            Estimate Std. Error t value Pr(>|t|)    \n",
       "(Intercept)    6.155      1.046   5.883 3.01e-05 ***\n",
       "---\n",
       "Signif. codes:  0 ‘***’ 0.001 ‘**’ 0.01 ‘*’ 0.05 ‘.’ 0.1 ‘ ’ 1\n",
       "\n",
       "Residual standard error: 4.185 on 15 degrees of freedom\n"
      ]
     },
     "metadata": {},
     "output_type": "display_data"
    }
   ],
   "source": [
    "m_null <- lm(Y~1, data = p13.16)\n",
    "summary(m_null)"
   ]
  },
  {
   "cell_type": "code",
   "execution_count": 5,
   "metadata": {},
   "outputs": [
    {
     "name": "stdout",
     "output_type": "stream",
     "text": [
      "Analysis of Variance Table\n",
      "\n",
      "Model 1: Y ~ 1\n",
      "Model 2: Y ~ X1 + X2 + X3\n",
      "  Res.Df     RSS Df Sum of Sq      F   Pr(>F)    \n",
      "1     15 262.684                                 \n",
      "2     12  50.352  3    212.33 16.868 0.000133 ***\n",
      "---\n",
      "Signif. codes:  0 ‘***’ 0.001 ‘**’ 0.01 ‘*’ 0.05 ‘.’ 0.1 ‘ ’ 1\n"
     ]
    }
   ],
   "source": [
    "print(anova(m_null, m_full))"
   ]
  },
  {
   "cell_type": "code",
   "execution_count": 43,
   "metadata": {},
   "outputs": [
    {
     "data": {
      "text/plain": [
       "\n",
       "Call:\n",
       "lm(formula = Y ~ X1 + X2 + X3 + X4, data = p13.16)\n",
       "\n",
       "Residuals:\n",
       "    Min      1Q  Median      3Q     Max \n",
       "-1.6562 -1.1537 -0.2025  0.3556  3.6812 \n",
       "\n",
       "Coefficients:\n",
       "            Estimate Std. Error t value Pr(>|t|)    \n",
       "(Intercept)   6.1550     0.4092  15.042 1.11e-08 ***\n",
       "X1            0.4562     0.4092   1.115  0.28860    \n",
       "X2            1.6487     0.4092   4.029  0.00198 ** \n",
       "X3            3.2163     0.4092   7.860 7.72e-06 ***\n",
       "X4            1.1425     0.4092   2.792  0.01752 *  \n",
       "---\n",
       "Signif. codes:  0 ‘***’ 0.001 ‘**’ 0.01 ‘*’ 0.05 ‘.’ 0.1 ‘ ’ 1\n",
       "\n",
       "Residual standard error: 1.637 on 11 degrees of freedom\n",
       "Multiple R-squared:  0.8878,\tAdjusted R-squared:  0.847 \n",
       "F-statistic: 21.77 on 4 and 11 DF,  p-value: 3.5e-05\n"
      ]
     },
     "metadata": {},
     "output_type": "display_data"
    }
   ],
   "source": [
    "m_full2 <- lm(Y ~ X1 + X2 + X3 + X4, data = p13.16)\n",
    "m_reduced2 <- lm(Y ~ X1 + X2 + X4, data = p13.16) # reduced: drop X3\n",
    "summary(m_full2) # t-test"
   ]
  },
  {
   "cell_type": "code",
   "execution_count": 7,
   "metadata": {},
   "outputs": [
    {
     "data": {
      "text/plain": [
       "\n",
       "Call:\n",
       "lm(formula = Y ~ X1 + X2 + X4, data = p13.16)\n",
       "\n",
       "Residuals:\n",
       "    Min      1Q  Median      3Q     Max \n",
       "-4.8725 -3.2581  0.3262  2.7481  6.8975 \n",
       "\n",
       "Coefficients:\n",
       "            Estimate Std. Error t value Pr(>|t|)    \n",
       "(Intercept)   6.1550     1.0077   6.108 5.27e-05 ***\n",
       "X1            0.4562     1.0077   0.453    0.659    \n",
       "X2            1.6487     1.0077   1.636    0.128    \n",
       "X4            1.1425     1.0077   1.134    0.279    \n",
       "---\n",
       "Signif. codes:  0 ‘***’ 0.001 ‘**’ 0.01 ‘*’ 0.05 ‘.’ 0.1 ‘ ’ 1\n",
       "\n",
       "Residual standard error: 4.031 on 12 degrees of freedom\n",
       "Multiple R-squared:  0.2578,\tAdjusted R-squared:  0.0722 \n",
       "F-statistic: 1.389 on 3 and 12 DF,  p-value: 0.2936\n"
      ]
     },
     "metadata": {},
     "output_type": "display_data"
    }
   ],
   "source": [
    "summary(m_reduced2)"
   ]
  },
  {
   "cell_type": "code",
   "execution_count": 8,
   "metadata": {},
   "outputs": [
    {
     "data": {
      "text/html": [
       "<table>\n",
       "<caption>A anova: 5 × 6</caption>\n",
       "<thead>\n",
       "\t<tr><th></th><th scope=col>Df</th><th scope=col>Sum of Sq</th><th scope=col>RSS</th><th scope=col>AIC</th><th scope=col>F value</th><th scope=col>Pr(&gt;F)</th></tr>\n",
       "\t<tr><th></th><th scope=col>&lt;dbl&gt;</th><th scope=col>&lt;dbl&gt;</th><th scope=col>&lt;dbl&gt;</th><th scope=col>&lt;dbl&gt;</th><th scope=col>&lt;dbl&gt;</th><th scope=col>&lt;dbl&gt;</th></tr>\n",
       "</thead>\n",
       "<tbody>\n",
       "\t<tr><th scope=row>&lt;none&gt;</th><td>NA</td><td>        NA</td><td> 29.46662</td><td>19.77071</td><td>       NA</td><td>          NA</td></tr>\n",
       "\t<tr><th scope=row>X1</th><td> 1</td><td>  3.330625</td><td> 32.79725</td><td>19.48410</td><td> 1.243335</td><td>2.885978e-01</td></tr>\n",
       "\t<tr><th scope=row>X2</th><td> 1</td><td> 43.494025</td><td> 72.96065</td><td>32.27730</td><td>16.236480</td><td>1.983852e-03</td></tr>\n",
       "\t<tr><th scope=row>X3</th><td> 1</td><td>165.508225</td><td>194.97485</td><td>48.00451</td><td>61.784832</td><td>7.719987e-06</td></tr>\n",
       "\t<tr><th scope=row>X4</th><td> 1</td><td> 20.884900</td><td> 50.35153</td><td>26.34304</td><td> 7.796410</td><td>1.751730e-02</td></tr>\n",
       "</tbody>\n",
       "</table>\n"
      ],
      "text/latex": [
       "A anova: 5 × 6\n",
       "\\begin{tabular}{r|llllll}\n",
       "  & Df & Sum of Sq & RSS & AIC & F value & Pr(>F)\\\\\n",
       "  & <dbl> & <dbl> & <dbl> & <dbl> & <dbl> & <dbl>\\\\\n",
       "\\hline\n",
       "\t<none> & NA &         NA &  29.46662 & 19.77071 &        NA &           NA\\\\\n",
       "\tX1 &  1 &   3.330625 &  32.79725 & 19.48410 &  1.243335 & 2.885978e-01\\\\\n",
       "\tX2 &  1 &  43.494025 &  72.96065 & 32.27730 & 16.236480 & 1.983852e-03\\\\\n",
       "\tX3 &  1 & 165.508225 & 194.97485 & 48.00451 & 61.784832 & 7.719987e-06\\\\\n",
       "\tX4 &  1 &  20.884900 &  50.35153 & 26.34304 &  7.796410 & 1.751730e-02\\\\\n",
       "\\end{tabular}\n"
      ],
      "text/markdown": [
       "\n",
       "A anova: 5 × 6\n",
       "\n",
       "| <!--/--> | Df &lt;dbl&gt; | Sum of Sq &lt;dbl&gt; | RSS &lt;dbl&gt; | AIC &lt;dbl&gt; | F value &lt;dbl&gt; | Pr(&gt;F) &lt;dbl&gt; |\n",
       "|---|---|---|---|---|---|---|\n",
       "| &lt;none&gt; | NA |         NA |  29.46662 | 19.77071 |        NA |           NA |\n",
       "| X1 |  1 |   3.330625 |  32.79725 | 19.48410 |  1.243335 | 2.885978e-01 |\n",
       "| X2 |  1 |  43.494025 |  72.96065 | 32.27730 | 16.236480 | 1.983852e-03 |\n",
       "| X3 |  1 | 165.508225 | 194.97485 | 48.00451 | 61.784832 | 7.719987e-06 |\n",
       "| X4 |  1 |  20.884900 |  50.35153 | 26.34304 |  7.796410 | 1.751730e-02 |\n",
       "\n"
      ],
      "text/plain": [
       "       Df Sum of Sq  RSS       AIC      F value   Pr(>F)      \n",
       "<none> NA         NA  29.46662 19.77071        NA           NA\n",
       "X1      1   3.330625  32.79725 19.48410  1.243335 2.885978e-01\n",
       "X2      1  43.494025  72.96065 32.27730 16.236480 1.983852e-03\n",
       "X3      1 165.508225 194.97485 48.00451 61.784832 7.719987e-06\n",
       "X4      1  20.884900  50.35153 26.34304  7.796410 1.751730e-02"
      ]
     },
     "metadata": {},
     "output_type": "display_data"
    }
   ],
   "source": [
    "drop1(m_full2, test = \"F\") # drop1 gives the same results"
   ]
  },
  {
   "cell_type": "code",
   "execution_count": 44,
   "metadata": {},
   "outputs": [
    {
     "data": {
      "text/html": [
       "<table>\n",
       "<caption>A anova: 2 × 6</caption>\n",
       "<thead>\n",
       "\t<tr><th scope=col>Res.Df</th><th scope=col>RSS</th><th scope=col>Df</th><th scope=col>Sum of Sq</th><th scope=col>F</th><th scope=col>Pr(&gt;F)</th></tr>\n",
       "\t<tr><th scope=col>&lt;dbl&gt;</th><th scope=col>&lt;dbl&gt;</th><th scope=col>&lt;dbl&gt;</th><th scope=col>&lt;dbl&gt;</th><th scope=col>&lt;dbl&gt;</th><th scope=col>&lt;dbl&gt;</th></tr>\n",
       "</thead>\n",
       "<tbody>\n",
       "\t<tr><td>12</td><td>194.97485</td><td>NA</td><td>      NA</td><td>      NA</td><td>          NA</td></tr>\n",
       "\t<tr><td>11</td><td> 29.46662</td><td> 1</td><td>165.5082</td><td>61.78483</td><td>7.719987e-06</td></tr>\n",
       "</tbody>\n",
       "</table>\n"
      ],
      "text/latex": [
       "A anova: 2 × 6\n",
       "\\begin{tabular}{r|llllll}\n",
       " Res.Df & RSS & Df & Sum of Sq & F & Pr(>F)\\\\\n",
       " <dbl> & <dbl> & <dbl> & <dbl> & <dbl> & <dbl>\\\\\n",
       "\\hline\n",
       "\t 12 & 194.97485 & NA &       NA &       NA &           NA\\\\\n",
       "\t 11 &  29.46662 &  1 & 165.5082 & 61.78483 & 7.719987e-06\\\\\n",
       "\\end{tabular}\n"
      ],
      "text/markdown": [
       "\n",
       "A anova: 2 × 6\n",
       "\n",
       "| Res.Df &lt;dbl&gt; | RSS &lt;dbl&gt; | Df &lt;dbl&gt; | Sum of Sq &lt;dbl&gt; | F &lt;dbl&gt; | Pr(&gt;F) &lt;dbl&gt; |\n",
       "|---|---|---|---|---|---|\n",
       "| 12 | 194.97485 | NA |       NA |       NA |           NA |\n",
       "| 11 |  29.46662 |  1 | 165.5082 | 61.78483 | 7.719987e-06 |\n",
       "\n"
      ],
      "text/plain": [
       "  Res.Df RSS       Df Sum of Sq F        Pr(>F)      \n",
       "1 12     194.97485 NA       NA        NA           NA\n",
       "2 11      29.46662  1 165.5082  61.78483 7.719987e-06"
      ]
     },
     "metadata": {},
     "output_type": "display_data"
    }
   ],
   "source": [
    "(comparison <- anova(m_reduced2, m_full2)) # F-test: reduced vs full"
   ]
  },
  {
   "cell_type": "code",
   "execution_count": 10,
   "metadata": {},
   "outputs": [
    {
     "data": {
      "text/html": [
       "61.7848319921267"
      ],
      "text/latex": [
       "61.7848319921267"
      ],
      "text/markdown": [
       "61.7848319921267"
      ],
      "text/plain": [
       "[1] 61.78483"
      ]
     },
     "metadata": {},
     "output_type": "display_data"
    }
   ],
   "source": [
    "(fstat <- comparison$F[2])"
   ]
  },
  {
   "cell_type": "code",
   "execution_count": 11,
   "metadata": {},
   "outputs": [
    {
     "data": {
      "text/html": [
       "7.86033281688039"
      ],
      "text/latex": [
       "7.86033281688039"
      ],
      "text/markdown": [
       "7.86033281688039"
      ],
      "text/plain": [
       "[1] 7.860333"
      ]
     },
     "metadata": {},
     "output_type": "display_data"
    }
   ],
   "source": [
    "(tstat <- summary(m_full2)$coefficients['X3', 't value'])"
   ]
  },
  {
   "cell_type": "code",
   "execution_count": 12,
   "metadata": {},
   "outputs": [
    {
     "data": {
      "text/html": [
       "61.7848319921267"
      ],
      "text/latex": [
       "61.7848319921267"
      ],
      "text/markdown": [
       "61.7848319921267"
      ],
      "text/plain": [
       "[1] 61.78483"
      ]
     },
     "metadata": {},
     "output_type": "display_data"
    }
   ],
   "source": [
    "tstat^2"
   ]
  },
  {
   "cell_type": "code",
   "execution_count": 13,
   "metadata": {},
   "outputs": [
    {
     "data": {
      "text/html": [
       "<table>\n",
       "<caption>A anova: 5 × 5</caption>\n",
       "<thead>\n",
       "\t<tr><th></th><th scope=col>Df</th><th scope=col>Sum Sq</th><th scope=col>Mean Sq</th><th scope=col>F value</th><th scope=col>Pr(&gt;F)</th></tr>\n",
       "\t<tr><th></th><th scope=col>&lt;int&gt;</th><th scope=col>&lt;dbl&gt;</th><th scope=col>&lt;dbl&gt;</th><th scope=col>&lt;dbl&gt;</th><th scope=col>&lt;dbl&gt;</th></tr>\n",
       "</thead>\n",
       "<tbody>\n",
       "\t<tr><th scope=row>X1</th><td> 1</td><td>  3.330625</td><td>  3.330625</td><td> 1.243335</td><td>2.885978e-01</td></tr>\n",
       "\t<tr><th scope=row>X2</th><td> 1</td><td> 43.494025</td><td> 43.494025</td><td>16.236480</td><td>1.983852e-03</td></tr>\n",
       "\t<tr><th scope=row>X3</th><td> 1</td><td>165.508225</td><td>165.508225</td><td>61.784832</td><td>7.719987e-06</td></tr>\n",
       "\t<tr><th scope=row>X4</th><td> 1</td><td> 20.884900</td><td> 20.884900</td><td> 7.796410</td><td>1.751730e-02</td></tr>\n",
       "\t<tr><th scope=row>Residuals</th><td>11</td><td> 29.466625</td><td>  2.678784</td><td>       NA</td><td>          NA</td></tr>\n",
       "</tbody>\n",
       "</table>\n"
      ],
      "text/latex": [
       "A anova: 5 × 5\n",
       "\\begin{tabular}{r|lllll}\n",
       "  & Df & Sum Sq & Mean Sq & F value & Pr(>F)\\\\\n",
       "  & <int> & <dbl> & <dbl> & <dbl> & <dbl>\\\\\n",
       "\\hline\n",
       "\tX1 &  1 &   3.330625 &   3.330625 &  1.243335 & 2.885978e-01\\\\\n",
       "\tX2 &  1 &  43.494025 &  43.494025 & 16.236480 & 1.983852e-03\\\\\n",
       "\tX3 &  1 & 165.508225 & 165.508225 & 61.784832 & 7.719987e-06\\\\\n",
       "\tX4 &  1 &  20.884900 &  20.884900 &  7.796410 & 1.751730e-02\\\\\n",
       "\tResiduals & 11 &  29.466625 &   2.678784 &        NA &           NA\\\\\n",
       "\\end{tabular}\n"
      ],
      "text/markdown": [
       "\n",
       "A anova: 5 × 5\n",
       "\n",
       "| <!--/--> | Df &lt;int&gt; | Sum Sq &lt;dbl&gt; | Mean Sq &lt;dbl&gt; | F value &lt;dbl&gt; | Pr(&gt;F) &lt;dbl&gt; |\n",
       "|---|---|---|---|---|---|\n",
       "| X1 |  1 |   3.330625 |   3.330625 |  1.243335 | 2.885978e-01 |\n",
       "| X2 |  1 |  43.494025 |  43.494025 | 16.236480 | 1.983852e-03 |\n",
       "| X3 |  1 | 165.508225 | 165.508225 | 61.784832 | 7.719987e-06 |\n",
       "| X4 |  1 |  20.884900 |  20.884900 |  7.796410 | 1.751730e-02 |\n",
       "| Residuals | 11 |  29.466625 |   2.678784 |        NA |           NA |\n",
       "\n"
      ],
      "text/plain": [
       "          Df Sum Sq     Mean Sq    F value   Pr(>F)      \n",
       "X1         1   3.330625   3.330625  1.243335 2.885978e-01\n",
       "X2         1  43.494025  43.494025 16.236480 1.983852e-03\n",
       "X3         1 165.508225 165.508225 61.784832 7.719987e-06\n",
       "X4         1  20.884900  20.884900  7.796410 1.751730e-02\n",
       "Residuals 11  29.466625   2.678784        NA           NA"
      ]
     },
     "metadata": {},
     "output_type": "display_data"
    }
   ],
   "source": [
    "anova(m_full2)"
   ]
  },
  {
   "cell_type": "code",
   "execution_count": 14,
   "metadata": {},
   "outputs": [
    {
     "data": {
      "text/html": [
       "<table>\n",
       "<caption>A anova: 4 × 5</caption>\n",
       "<thead>\n",
       "\t<tr><th></th><th scope=col>Df</th><th scope=col>Sum Sq</th><th scope=col>Mean Sq</th><th scope=col>F value</th><th scope=col>Pr(&gt;F)</th></tr>\n",
       "\t<tr><th></th><th scope=col>&lt;int&gt;</th><th scope=col>&lt;dbl&gt;</th><th scope=col>&lt;dbl&gt;</th><th scope=col>&lt;dbl&gt;</th><th scope=col>&lt;dbl&gt;</th></tr>\n",
       "</thead>\n",
       "<tbody>\n",
       "\t<tr><th scope=row>x1</th><td> 1</td><td> 6.031589</td><td> 6.031589</td><td> 3.585168</td><td>6.554689e-02</td></tr>\n",
       "\t<tr><th scope=row>x2</th><td> 1</td><td>56.902813</td><td>56.902813</td><td>33.822954</td><td>8.581339e-07</td></tr>\n",
       "\t<tr><th scope=row>x3</th><td> 1</td><td> 1.497963</td><td> 1.497963</td><td> 0.890387</td><td>3.510373e-01</td></tr>\n",
       "\t<tr><th scope=row>Residuals</th><td>40</td><td>67.294907</td><td> 1.682373</td><td>       NA</td><td>          NA</td></tr>\n",
       "</tbody>\n",
       "</table>\n"
      ],
      "text/latex": [
       "A anova: 4 × 5\n",
       "\\begin{tabular}{r|lllll}\n",
       "  & Df & Sum Sq & Mean Sq & F value & Pr(>F)\\\\\n",
       "  & <int> & <dbl> & <dbl> & <dbl> & <dbl>\\\\\n",
       "\\hline\n",
       "\tx1 &  1 &  6.031589 &  6.031589 &  3.585168 & 6.554689e-02\\\\\n",
       "\tx2 &  1 & 56.902813 & 56.902813 & 33.822954 & 8.581339e-07\\\\\n",
       "\tx3 &  1 &  1.497963 &  1.497963 &  0.890387 & 3.510373e-01\\\\\n",
       "\tResiduals & 40 & 67.294907 &  1.682373 &        NA &           NA\\\\\n",
       "\\end{tabular}\n"
      ],
      "text/markdown": [
       "\n",
       "A anova: 4 × 5\n",
       "\n",
       "| <!--/--> | Df &lt;int&gt; | Sum Sq &lt;dbl&gt; | Mean Sq &lt;dbl&gt; | F value &lt;dbl&gt; | Pr(&gt;F) &lt;dbl&gt; |\n",
       "|---|---|---|---|---|---|\n",
       "| x1 |  1 |  6.031589 |  6.031589 |  3.585168 | 6.554689e-02 |\n",
       "| x2 |  1 | 56.902813 | 56.902813 | 33.822954 | 8.581339e-07 |\n",
       "| x3 |  1 |  1.497963 |  1.497963 |  0.890387 | 3.510373e-01 |\n",
       "| Residuals | 40 | 67.294907 |  1.682373 |        NA |           NA |\n",
       "\n"
      ],
      "text/plain": [
       "          Df Sum Sq    Mean Sq   F value   Pr(>F)      \n",
       "x1         1  6.031589  6.031589  3.585168 6.554689e-02\n",
       "x2         1 56.902813 56.902813 33.822954 8.581339e-07\n",
       "x3         1  1.497963  1.497963  0.890387 3.510373e-01\n",
       "Residuals 40 67.294907  1.682373        NA           NA"
      ]
     },
     "metadata": {},
     "output_type": "display_data"
    }
   ],
   "source": [
    "data(p13.7) # load the data\n",
    "m_full <- lm(y ~ x1 + x2 + x3, data = p13.7) # fit the full model\n",
    "anova(m_full) # F-test: reduced vs full"
   ]
  },
  {
   "cell_type": "code",
   "execution_count": 15,
   "metadata": {},
   "outputs": [
    {
     "data": {
      "text/html": [
       "<table>\n",
       "<caption>A anova: 4 × 5</caption>\n",
       "<thead>\n",
       "\t<tr><th></th><th scope=col>Df</th><th scope=col>Sum Sq</th><th scope=col>Mean Sq</th><th scope=col>F value</th><th scope=col>Pr(&gt;F)</th></tr>\n",
       "\t<tr><th></th><th scope=col>&lt;int&gt;</th><th scope=col>&lt;dbl&gt;</th><th scope=col>&lt;dbl&gt;</th><th scope=col>&lt;dbl&gt;</th><th scope=col>&lt;dbl&gt;</th></tr>\n",
       "</thead>\n",
       "<tbody>\n",
       "\t<tr><th scope=row>x3</th><td> 1</td><td> 2.293342</td><td> 2.293342</td><td> 1.363159</td><td>2.499034e-01</td></tr>\n",
       "\t<tr><th scope=row>x2</th><td> 1</td><td>52.755282</td><td>52.755282</td><td>31.357667</td><td>1.724962e-06</td></tr>\n",
       "\t<tr><th scope=row>x1</th><td> 1</td><td> 9.383742</td><td> 9.383742</td><td> 5.577683</td><td>2.314749e-02</td></tr>\n",
       "\t<tr><th scope=row>Residuals</th><td>40</td><td>67.294907</td><td> 1.682373</td><td>       NA</td><td>          NA</td></tr>\n",
       "</tbody>\n",
       "</table>\n"
      ],
      "text/latex": [
       "A anova: 4 × 5\n",
       "\\begin{tabular}{r|lllll}\n",
       "  & Df & Sum Sq & Mean Sq & F value & Pr(>F)\\\\\n",
       "  & <int> & <dbl> & <dbl> & <dbl> & <dbl>\\\\\n",
       "\\hline\n",
       "\tx3 &  1 &  2.293342 &  2.293342 &  1.363159 & 2.499034e-01\\\\\n",
       "\tx2 &  1 & 52.755282 & 52.755282 & 31.357667 & 1.724962e-06\\\\\n",
       "\tx1 &  1 &  9.383742 &  9.383742 &  5.577683 & 2.314749e-02\\\\\n",
       "\tResiduals & 40 & 67.294907 &  1.682373 &        NA &           NA\\\\\n",
       "\\end{tabular}\n"
      ],
      "text/markdown": [
       "\n",
       "A anova: 4 × 5\n",
       "\n",
       "| <!--/--> | Df &lt;int&gt; | Sum Sq &lt;dbl&gt; | Mean Sq &lt;dbl&gt; | F value &lt;dbl&gt; | Pr(&gt;F) &lt;dbl&gt; |\n",
       "|---|---|---|---|---|---|\n",
       "| x3 |  1 |  2.293342 |  2.293342 |  1.363159 | 2.499034e-01 |\n",
       "| x2 |  1 | 52.755282 | 52.755282 | 31.357667 | 1.724962e-06 |\n",
       "| x1 |  1 |  9.383742 |  9.383742 |  5.577683 | 2.314749e-02 |\n",
       "| Residuals | 40 | 67.294907 |  1.682373 |        NA |           NA |\n",
       "\n"
      ],
      "text/plain": [
       "          Df Sum Sq    Mean Sq   F value   Pr(>F)      \n",
       "x3         1  2.293342  2.293342  1.363159 2.499034e-01\n",
       "x2         1 52.755282 52.755282 31.357667 1.724962e-06\n",
       "x1         1  9.383742  9.383742  5.577683 2.314749e-02\n",
       "Residuals 40 67.294907  1.682373        NA           NA"
      ]
     },
     "metadata": {},
     "output_type": "display_data"
    }
   ],
   "source": [
    "m_full_1 <- lm(y ~ x3 + x2 + x1, data = p13.7) # fit the full model\n",
    "anova(m_full_1) # F-test: reduced vs full"
   ]
  },
  {
   "cell_type": "code",
   "execution_count": 32,
   "metadata": {},
   "outputs": [
    {
     "data": {
      "text/html": [
       "<table>\n",
       "<caption>A anova: 2 × 5</caption>\n",
       "<thead>\n",
       "\t<tr><th></th><th scope=col>Df</th><th scope=col>Sum Sq</th><th scope=col>Mean Sq</th><th scope=col>F value</th><th scope=col>Pr(&gt;F)</th></tr>\n",
       "\t<tr><th></th><th scope=col>&lt;int&gt;</th><th scope=col>&lt;dbl&gt;</th><th scope=col>&lt;dbl&gt;</th><th scope=col>&lt;dbl&gt;</th><th scope=col>&lt;dbl&gt;</th></tr>\n",
       "</thead>\n",
       "<tbody>\n",
       "\t<tr><th scope=row>mean</th><td>1</td><td>221.46706</td><td>221.46706</td><td>15.54241</td><td>0.007603769</td></tr>\n",
       "\t<tr><th scope=row>Residuals</th><td>6</td><td> 85.49524</td><td> 14.24921</td><td>      NA</td><td>         NA</td></tr>\n",
       "</tbody>\n",
       "</table>\n"
      ],
      "text/latex": [
       "A anova: 2 × 5\n",
       "\\begin{tabular}{r|lllll}\n",
       "  & Df & Sum Sq & Mean Sq & F value & Pr(>F)\\\\\n",
       "  & <int> & <dbl> & <dbl> & <dbl> & <dbl>\\\\\n",
       "\\hline\n",
       "\tmean & 1 & 221.46706 & 221.46706 & 15.54241 & 0.007603769\\\\\n",
       "\tResiduals & 6 &  85.49524 &  14.24921 &       NA &          NA\\\\\n",
       "\\end{tabular}\n"
      ],
      "text/markdown": [
       "\n",
       "A anova: 2 × 5\n",
       "\n",
       "| <!--/--> | Df &lt;int&gt; | Sum Sq &lt;dbl&gt; | Mean Sq &lt;dbl&gt; | F value &lt;dbl&gt; | Pr(&gt;F) &lt;dbl&gt; |\n",
       "|---|---|---|---|---|---|\n",
       "| mean | 1 | 221.46706 | 221.46706 | 15.54241 | 0.007603769 |\n",
       "| Residuals | 6 |  85.49524 |  14.24921 |       NA |          NA |\n",
       "\n"
      ],
      "text/plain": [
       "          Df Sum Sq    Mean Sq   F value  Pr(>F)     \n",
       "mean      1  221.46706 221.46706 15.54241 0.007603769\n",
       "Residuals 6   85.49524  14.24921       NA          NA"
      ]
     },
     "metadata": {},
     "output_type": "display_data"
    },
    {
     "data": {
      "text/html": [
       "<table>\n",
       "<caption>A data.frame: 1 × 3</caption>\n",
       "<thead>\n",
       "\t<tr><th scope=col>Within</th><th scope=col>Between</th><th scope=col>Total</th></tr>\n",
       "\t<tr><th scope=col>&lt;dbl&gt;</th><th scope=col>&lt;dbl&gt;</th><th scope=col>&lt;dbl&gt;</th></tr>\n",
       "</thead>\n",
       "<tbody>\n",
       "\t<tr><td>85.49524</td><td>221.4671</td><td>306.9623</td></tr>\n",
       "</tbody>\n",
       "</table>\n"
      ],
      "text/latex": [
       "A data.frame: 1 × 3\n",
       "\\begin{tabular}{r|lll}\n",
       " Within & Between & Total\\\\\n",
       " <dbl> & <dbl> & <dbl>\\\\\n",
       "\\hline\n",
       "\t 85.49524 & 221.4671 & 306.9623\\\\\n",
       "\\end{tabular}\n"
      ],
      "text/markdown": [
       "\n",
       "A data.frame: 1 × 3\n",
       "\n",
       "| Within &lt;dbl&gt; | Between &lt;dbl&gt; | Total &lt;dbl&gt; |\n",
       "|---|---|---|\n",
       "| 85.49524 | 221.4671 | 306.9623 |\n",
       "\n"
      ],
      "text/plain": [
       "  Within   Between  Total   \n",
       "1 85.49524 221.4671 306.9623"
      ]
     },
     "metadata": {},
     "output_type": "display_data"
    }
   ],
   "source": [
    "set.seed(423)\n",
    "x1 <- rnorm(n = 5, mean = 10, sd = 2)\n",
    "x2 <- rnorm(n = 3, mean = 20, sd = 5)\n",
    "two_gaussian <- data.frame(x = c(x1, x2), mean = c(rep(\"10\", 5), rep(\"20\", 3)))\n",
    "anova(lm(x~mean, data = two_gaussian))\n",
    "\n",
    "mean1 <- mean(x1)\n",
    "mean2 <- mean(x2)\n",
    "mean.tot <- mean(c(x1,x2))\n",
    "\n",
    "ss.within = sum((x1-mean1)^2) + sum((x2-mean2)^2)\n",
    "ss.between = (mean1-mean.tot)^2 * 5 + (mean2-mean.tot)^2 * 3\n",
    "ss.total = sum((c(x1,x2)-mean.tot)^2)\n",
    "data.frame(Within = ss.within, Between = ss.between, Total = ss.total)"
   ]
  },
  {
   "cell_type": "code",
   "execution_count": 28,
   "metadata": {},
   "outputs": [
    {
     "data": {
      "text/html": [
       "<table>\n",
       "<caption>A data.frame: 1 × 3</caption>\n",
       "<thead>\n",
       "\t<tr><th scope=col>Within</th><th scope=col>Between</th><th scope=col>Total</th></tr>\n",
       "\t<tr><th scope=col>&lt;dbl&gt;</th><th scope=col>&lt;dbl&gt;</th><th scope=col>&lt;dbl&gt;</th></tr>\n",
       "</thead>\n",
       "<tbody>\n",
       "\t<tr><td>85.49524</td><td>221.4671</td><td>306.9623</td></tr>\n",
       "</tbody>\n",
       "</table>\n"
      ],
      "text/latex": [
       "A data.frame: 1 × 3\n",
       "\\begin{tabular}{r|lll}\n",
       " Within & Between & Total\\\\\n",
       " <dbl> & <dbl> & <dbl>\\\\\n",
       "\\hline\n",
       "\t 85.49524 & 221.4671 & 306.9623\\\\\n",
       "\\end{tabular}\n"
      ],
      "text/markdown": [
       "\n",
       "A data.frame: 1 × 3\n",
       "\n",
       "| Within &lt;dbl&gt; | Between &lt;dbl&gt; | Total &lt;dbl&gt; |\n",
       "|---|---|---|\n",
       "| 85.49524 | 221.4671 | 306.9623 |\n",
       "\n"
      ],
      "text/plain": [
       "  Within   Between  Total   \n",
       "1 85.49524 221.4671 306.9623"
      ]
     },
     "metadata": {},
     "output_type": "display_data"
    }
   ],
   "source": []
  },
  {
   "cell_type": "code",
   "execution_count": 48,
   "metadata": {},
   "outputs": [
    {
     "name": "stdout",
     "output_type": "stream",
     "text": [
      "Analysis of Variance Table\n",
      "\n",
      "Response: Y\n",
      "          Df  Sum Sq Mean Sq F value   Pr(>F)    \n",
      "X1         1   3.331   3.331  1.2433 0.288598    \n",
      "X2         1  43.494  43.494 16.2365 0.001984 ** \n",
      "X3         1 165.508 165.508 61.7848 7.72e-06 ***\n",
      "X4         1  20.885  20.885  7.7964 0.017517 *  \n",
      "Residuals 11  29.467   2.679                     \n",
      "---\n",
      "Signif. codes:  0 ‘***’ 0.001 ‘**’ 0.01 ‘*’ 0.05 ‘.’ 0.1 ‘ ’ 1\n"
     ]
    }
   ],
   "source": [
    "print(anova(lm(Y~., data = p13.16)))"
   ]
  },
  {
   "cell_type": "code",
   "execution_count": null,
   "metadata": {},
   "outputs": [],
   "source": []
  }
 ],
 "metadata": {
  "kernelspec": {
   "display_name": "R",
   "language": "R",
   "name": "ir"
  },
  "language_info": {
   "codemirror_mode": "r",
   "file_extension": ".r",
   "mimetype": "text/x-r-source",
   "name": "R",
   "pygments_lexer": "r",
   "version": "3.6.1"
  }
 },
 "nbformat": 4,
 "nbformat_minor": 2
}
